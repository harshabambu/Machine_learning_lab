{
 "cells": [
  {
   "cell_type": "code",
   "execution_count": 2,
   "id": "744f4c9c-69cb-49ed-b252-33c4003860ac",
   "metadata": {},
   "outputs": [
    {
     "name": "stdout",
     "output_type": "stream",
     "text": [
      "1*2*3*4*5$"
     ]
    }
   ],
   "source": [
    "print(1,2,3,4,5,sep=\"*\",end=\"$\")"
   ]
  },
  {
   "cell_type": "code",
   "execution_count": 6,
   "id": "1b6f2a8d-ea17-4ddf-a735-7f5b4ebceb62",
   "metadata": {},
   "outputs": [
    {
     "name": "stdout",
     "output_type": "stream",
     "text": [
      "['apple', 'banana', 'cherry']\n",
      "banana\n",
      "['apple', 'banana', 'cherry', 'orange', 'kiwi', 'melon', 'mango']\n",
      "['cherry', 'orange']\n",
      "['apple', 'banana', 'grape', 'orange', 'kiwi', 'melon', 'mango']\n"
     ]
    }
   ],
   "source": [
    "l1=[\"apple\",\"banana\",\"cherry\"];\n",
    "print(l1)\n",
    "print(l1[1])\n",
    "l1=[\"apple\",\"banana\",\"cherry\",\"orange\",\"kiwi\",\"melon\",\"mango\"];\n",
    "print(l1);\n",
    "print(l1[2:4])\n",
    "l1[2]=\"grape\";\n",
    "print(l1);\n"
   ]
  },
  {
   "cell_type": "code",
   "execution_count": 10,
   "id": "92250add-aee4-40bd-9169-1d1846141e73",
   "metadata": {},
   "outputs": [
    {
     "name": "stdout",
     "output_type": "stream",
     "text": [
      "('maths', 'physics', 'chemistry')\n",
      "maths\n",
      "('maths', 'physics', 'chemistry')\n"
     ]
    }
   ],
   "source": [
    "t1=(\"maths\",\"physics\",\"chemistry\")\n",
    "print(t1)\n",
    "print(t1[0])\n",
    "print(t1)"
   ]
  },
  {
   "cell_type": "code",
   "execution_count": 15,
   "id": "fc34ee22-503f-4f97-9ca7-8291322dd73c",
   "metadata": {},
   "outputs": [
    {
     "name": "stdout",
     "output_type": "stream",
     "text": [
      "harsha\n",
      "90\n",
      "ravi\n",
      "60\n",
      "shankar\n",
      "99\n",
      "90\n"
     ]
    }
   ],
   "source": [
    "d1={\"harsha\":90,\"ravi\":60,\"shankar\":99};\n",
    "for x in d1:\n",
    "    print(x)\n",
    "    print(d1[x])\n",
    "print(d1[\"harsha\"])"
   ]
  },
  {
   "cell_type": "code",
   "execution_count": 57,
   "id": "bf604619-1934-4213-88b5-c3e6f91708f5",
   "metadata": {},
   "outputs": [
    {
     "name": "stdout",
     "output_type": "stream",
     "text": [
      "sum of array elements is: 27\n",
      "len is  5\n",
      "Abs of  345\n",
      "round value  24\n",
      "log value is  2.302585092994046\n"
     ]
    }
   ],
   "source": [
    "import math;\n",
    "print(\"sum of array elements is:\",sum([1,2,7,3,4,5,5]))\n",
    "print(\"len is \",len([1,2,5,3,45,]))\n",
    "print(\"Abs of \",abs(-345))\n",
    "print(\"round value \",round(23.5325))\n",
    "print(\"log value is \",math.log(10))\n"
   ]
  },
  {
   "cell_type": "code",
   "execution_count": null,
   "id": "bf792d6c-d320-479f-a3b9-49b29f7d2a65",
   "metadata": {},
   "outputs": [],
   "source": []
  },
  {
   "cell_type": "code",
   "execution_count": 23,
   "id": "15a8cd34-6205-4161-beae-414b48d7d571",
   "metadata": {},
   "outputs": [
    {
     "name": "stdout",
     "output_type": "stream",
     "text": [
      "Area is  12\n"
     ]
    }
   ],
   "source": [
    "def area(l,w):\n",
    "    return l*w\n",
    "print(\"Area is \",area(3,4))"
   ]
  },
  {
   "cell_type": "code",
   "execution_count": 27,
   "id": "ee57971a-dacf-4331-9633-e6a0afa7760f",
   "metadata": {},
   "outputs": [
    {
     "name": "stdout",
     "output_type": "stream",
     "text": [
      "matrix a  [0 1 2 3]\n",
      "matrix b  [0 1 2 3]\n",
      "matrix sum a+b  [5 6 7 8]\n",
      "matrix a*b  [ 0  5 10 15]\n"
     ]
    }
   ],
   "source": [
    "import numpy as np;\n",
    "a=np.array([0,1,2,3])\n",
    "b=np.array([5,5,5,5])\n",
    "print(\"matrix a \",a)\n",
    "print(\"matrix b \",a)\n",
    "print(\"matrix sum a+b \",a+b)\n",
    "print(\"matrix a*b \",a*b)"
   ]
  },
  {
   "cell_type": "code",
   "execution_count": 30,
   "id": "b294319e-2873-40cd-82ac-526e3a8c1ea6",
   "metadata": {},
   "outputs": [
    {
     "name": "stdout",
     "output_type": "stream",
     "text": [
      "matrix c is \n",
      " [[0 1 2]\n",
      " [3 4 5]\n",
      " [6 7 8]]\n",
      "matrix c is \n",
      " [[1 2 3]\n",
      " [1 2 3]\n",
      " [1 2 3]]\n",
      "matrix c is \n",
      " [1 2 3]\n",
      "matrix c+d is \n",
      " [[ 1  3  5]\n",
      " [ 4  6  8]\n",
      " [ 7  9 11]]\n",
      "matrix c+e is \n",
      " [[ 1  3  5]\n",
      " [ 4  6  8]\n",
      " [ 7  9 11]]\n"
     ]
    }
   ],
   "source": [
    "c=np.array([[0,1,2],[3,4,5],[6,7,8]])\n",
    "d=np.array([[1,2,3],[1,2,3],[1,2,3]])\n",
    "e=np.array([1,2,3])\n",
    "print(\"matrix c is \\n\",c)\n",
    "print(\"matrix c is \\n\",d)\n",
    "print(\"matrix c is \\n\",e)\n",
    "print(\"matrix c+d is \\n\",c+d)\n",
    "print(\"matrix c+e is \\n\",c+e)"
   ]
  },
  {
   "cell_type": "code",
   "execution_count": 39,
   "id": "41638881-3bb6-4445-b1bb-71876b812989",
   "metadata": {},
   "outputs": [
    {
     "name": "stdout",
     "output_type": "stream",
     "text": [
      "matrix is \n",
      " [[1 2 3]\n",
      " [4 5 6]\n",
      " [7 8 9]]\n",
      "second row of matrix \n",
      " [4 5 6]\n",
      "second row of matrix \n",
      " [3 6 9]\n"
     ]
    }
   ],
   "source": [
    "matrix=np.array([[1,2,3],[4,5,6],[7,8,9]])\n",
    "print(\"matrix is \\n\",matrix)\n",
    "print(\"second row of matrix \\n\",matrix[1,:])\n",
    "print(\"second col of matrix \\n\",matrix[:,2])"
   ]
  },
  {
   "cell_type": "code",
   "execution_count": 44,
   "id": "e77776fd-37d0-4e03-8723-a55d5b5d1915",
   "metadata": {},
   "outputs": [
    {
     "name": "stdout",
     "output_type": "stream",
     "text": [
      "matrix Shape:  (3, 3)\n",
      "matrix size:  9\n",
      "matrix dimensions:  2\n",
      "avg of matrix:  5.0\n",
      "matrix max number:  9\n",
      "colown with minimum numbers: [1 4 7]\n",
      "diagnol of a matrix:  [1 5 9]\n"
     ]
    }
   ],
   "source": [
    "print(\"matrix Shape: \",matrix.shape);\n",
    "print(\"matrix size: \",matrix.size);\n",
    "print(\"matrix dimensions: \",matrix.ndim);\n",
    "print(\"avg of matrix: \",np.mean(matrix));\n",
    "print(\"matrix max number: \",np.max(matrix));\n",
    "print(\"colown with minimum numbers:\",np.min(matrix,axis=1))\n",
    "print(\"diagnol of a matrix: \",matrix.diagonal())"
   ]
  },
  {
   "cell_type": "code",
   "execution_count": 58,
   "id": "586f42f2-976d-4341-ad5f-30c1aadaf6e3",
   "metadata": {},
   "outputs": [
    {
     "name": "stdout",
     "output_type": "stream",
     "text": [
      "Flatted matrix\n",
      " [1 2 3 4 5 6 7 8 9]\n",
      "Reshaping matrix\n",
      " [[1]\n",
      " [2]\n",
      " [3]\n",
      " [4]\n",
      " [5]\n",
      " [6]\n",
      " [7]\n",
      " [8]\n",
      " [9]]\n",
      "Transposed matrix\n",
      " [[1 4 7]\n",
      " [2 5 8]\n",
      " [3 6 9]]\n"
     ]
    }
   ],
   "source": [
    "print(\"Flatted matrix\\n\",matrix.flatten())\n",
    "print(\"Reshaping matrix\\n\",matrix.reshape(9,1))\n",
    "print(\"Transposed matrix\\n\",matrix.T)"
   ]
  },
  {
   "cell_type": "code",
   "execution_count": null,
   "id": "e95065f9-a0c7-4717-8d14-59a6f58d5780",
   "metadata": {},
   "outputs": [],
   "source": []
  },
  {
   "cell_type": "code",
   "execution_count": 56,
   "id": "d118ec2f-3078-409b-9dbb-89002577ec95",
   "metadata": {},
   "outputs": [
    {
     "name": "stdout",
     "output_type": "stream",
     "text": [
      "matrix addition is \n",
      " [[ 2  5  4]\n",
      " [ 5  6  8]\n",
      " [ 8 11 15]]\n",
      "matrix addition is \n",
      " [[ 1  6  3]\n",
      " [ 4  5 12]\n",
      " [ 7 24 54]]\n"
     ]
    }
   ],
   "source": [
    "mat_a=np.array([[1,2,3],[4,5,6],[7,8,9]])\n",
    "mat_b=np.array([[1,3,1],[1,1,2],[1,3,6]])\n",
    "print(\"matrix addition is \\n\",np.add(mat_a,mat_b));\n",
    "print(\"matrix addition is \\n\",np.multiply(mat_a,mat_b)); "
   ]
  },
  {
   "cell_type": "code",
   "execution_count": null,
   "id": "28d4cdc9-fcac-4ade-b13d-d9f68f82405f",
   "metadata": {},
   "outputs": [],
   "source": []
  },
  {
   "cell_type": "code",
   "execution_count": null,
   "id": "f9b4f62b-477a-47ec-9ee3-4bb391f9a47d",
   "metadata": {},
   "outputs": [],
   "source": []
  },
  {
   "cell_type": "code",
   "execution_count": null,
   "id": "8ef43876-99e6-4c5f-a20d-69993786bbd5",
   "metadata": {},
   "outputs": [],
   "source": []
  },
  {
   "cell_type": "code",
   "execution_count": null,
   "id": "1c99758e-19ab-4a34-9379-70e10c9cfe92",
   "metadata": {},
   "outputs": [],
   "source": []
  },
  {
   "cell_type": "code",
   "execution_count": null,
   "id": "b88b7cab-eef0-45b8-a19f-8b1ea6f7ccae",
   "metadata": {},
   "outputs": [],
   "source": []
  },
  {
   "cell_type": "code",
   "execution_count": null,
   "id": "3718aa69-e5b7-4a10-b136-312bc1f22248",
   "metadata": {},
   "outputs": [],
   "source": []
  },
  {
   "cell_type": "code",
   "execution_count": null,
   "id": "c4441c7a-d269-47bc-8fad-4140055cae6b",
   "metadata": {},
   "outputs": [],
   "source": []
  },
  {
   "cell_type": "code",
   "execution_count": null,
   "id": "d928ac3b-93ab-47bd-a0bc-2d7b38480b21",
   "metadata": {},
   "outputs": [],
   "source": []
  },
  {
   "cell_type": "code",
   "execution_count": null,
   "id": "0b0b546f-e500-4e9c-ae9c-e23cf68bb828",
   "metadata": {},
   "outputs": [],
   "source": []
  },
  {
   "cell_type": "code",
   "execution_count": null,
   "id": "a87d01ab-8f8f-41ab-aaf1-b6e8746042dc",
   "metadata": {},
   "outputs": [],
   "source": []
  },
  {
   "cell_type": "code",
   "execution_count": null,
   "id": "8390ddcc-1e16-45f9-b745-e5106482ed2c",
   "metadata": {},
   "outputs": [],
   "source": []
  },
  {
   "cell_type": "code",
   "execution_count": null,
   "id": "280b48d1-244d-48a3-b5dd-39a7daadaefe",
   "metadata": {},
   "outputs": [],
   "source": []
  },
  {
   "cell_type": "code",
   "execution_count": null,
   "id": "3e0ad611-7d47-4c18-8125-a971e33c82fc",
   "metadata": {},
   "outputs": [],
   "source": []
  },
  {
   "cell_type": "code",
   "execution_count": null,
   "id": "ea5369e1-0563-4ba0-80b3-8e9bffd14c6a",
   "metadata": {},
   "outputs": [],
   "source": []
  },
  {
   "cell_type": "code",
   "execution_count": null,
   "id": "f3a8c791-4a36-46bd-a765-4e3368587ea3",
   "metadata": {},
   "outputs": [],
   "source": []
  },
  {
   "cell_type": "code",
   "execution_count": null,
   "id": "fdaeb0cb-00d6-4fdc-bf0f-d9aac391c889",
   "metadata": {},
   "outputs": [],
   "source": []
  },
  {
   "cell_type": "code",
   "execution_count": null,
   "id": "46b570d3-7824-4b31-9cd7-19bf9abd7fac",
   "metadata": {},
   "outputs": [],
   "source": []
  },
  {
   "cell_type": "code",
   "execution_count": null,
   "id": "47a1217d-f5e2-4058-a76d-7b1bef946c2a",
   "metadata": {},
   "outputs": [],
   "source": []
  },
  {
   "cell_type": "code",
   "execution_count": null,
   "id": "992984de-b466-4806-a71e-37146a4be859",
   "metadata": {},
   "outputs": [],
   "source": []
  },
  {
   "cell_type": "code",
   "execution_count": null,
   "id": "ff9308da-154d-488a-bd70-8cf183407e03",
   "metadata": {},
   "outputs": [],
   "source": []
  },
  {
   "cell_type": "code",
   "execution_count": null,
   "id": "f5301cee-2fde-4d28-8cb2-1e8722d9bd21",
   "metadata": {},
   "outputs": [],
   "source": []
  },
  {
   "cell_type": "code",
   "execution_count": null,
   "id": "147edcbd-c89c-4bd6-a92c-9bb5780e9eca",
   "metadata": {},
   "outputs": [],
   "source": []
  },
  {
   "cell_type": "code",
   "execution_count": null,
   "id": "7e3e7e83-27ce-435d-9068-739595d3a417",
   "metadata": {},
   "outputs": [],
   "source": []
  },
  {
   "cell_type": "code",
   "execution_count": null,
   "id": "e31b7a73-5f5e-48de-8537-bc699380bcee",
   "metadata": {},
   "outputs": [],
   "source": []
  },
  {
   "cell_type": "code",
   "execution_count": null,
   "id": "d3395ead-3f2c-48c4-84a4-d000e187e0bd",
   "metadata": {},
   "outputs": [],
   "source": []
  },
  {
   "cell_type": "code",
   "execution_count": null,
   "id": "6c1291b2-5661-42fb-baf3-9344a0e7b440",
   "metadata": {},
   "outputs": [],
   "source": []
  },
  {
   "cell_type": "code",
   "execution_count": null,
   "id": "fe5773d8-313f-4bcf-8c62-fbca6fd63042",
   "metadata": {},
   "outputs": [],
   "source": []
  },
  {
   "cell_type": "code",
   "execution_count": null,
   "id": "d804cbcd-6531-423f-a7f2-a94655b22910",
   "metadata": {},
   "outputs": [],
   "source": []
  },
  {
   "cell_type": "code",
   "execution_count": null,
   "id": "fa0866be-fedd-412b-9594-ee14448570c1",
   "metadata": {},
   "outputs": [],
   "source": []
  },
  {
   "cell_type": "code",
   "execution_count": null,
   "id": "3608aeb2-1ee6-4293-8122-f489e6eebcb7",
   "metadata": {},
   "outputs": [],
   "source": []
  },
  {
   "cell_type": "code",
   "execution_count": null,
   "id": "54625a2d-3fc6-4d45-a35d-2175a1a6874e",
   "metadata": {},
   "outputs": [],
   "source": []
  },
  {
   "cell_type": "code",
   "execution_count": null,
   "id": "8c96dc64-f7b9-4dd4-aae9-541ddaa0f09e",
   "metadata": {},
   "outputs": [],
   "source": []
  },
  {
   "cell_type": "code",
   "execution_count": null,
   "id": "4839e9ab-e615-4c4b-9897-f5ec2bc221a3",
   "metadata": {},
   "outputs": [],
   "source": []
  },
  {
   "cell_type": "code",
   "execution_count": null,
   "id": "2887979e-3825-41cb-8c42-11cd838902ff",
   "metadata": {},
   "outputs": [],
   "source": []
  },
  {
   "cell_type": "code",
   "execution_count": null,
   "id": "e31baf69-6b03-4772-bd3f-ee83ce3fde66",
   "metadata": {},
   "outputs": [],
   "source": []
  },
  {
   "cell_type": "code",
   "execution_count": null,
   "id": "4bf4d89f-4382-4cb9-a511-0dd115ac9055",
   "metadata": {},
   "outputs": [],
   "source": []
  },
  {
   "cell_type": "code",
   "execution_count": null,
   "id": "faf76508-56c7-4664-9ed0-97bf69cd19a5",
   "metadata": {},
   "outputs": [],
   "source": []
  },
  {
   "cell_type": "code",
   "execution_count": null,
   "id": "0849a35e-a65e-48d2-807b-338cceadde12",
   "metadata": {},
   "outputs": [],
   "source": []
  },
  {
   "cell_type": "code",
   "execution_count": null,
   "id": "77efc2e4-fea5-421e-8796-b8d0a655d2d9",
   "metadata": {},
   "outputs": [],
   "source": []
  },
  {
   "cell_type": "code",
   "execution_count": null,
   "id": "95821d2e-a41b-47ae-97a5-a03a3526ce7d",
   "metadata": {},
   "outputs": [],
   "source": []
  }
 ],
 "metadata": {
  "kernelspec": {
   "display_name": "Python 3 (ipykernel)",
   "language": "python",
   "name": "python3"
  },
  "language_info": {
   "codemirror_mode": {
    "name": "ipython",
    "version": 3
   },
   "file_extension": ".py",
   "mimetype": "text/x-python",
   "name": "python",
   "nbconvert_exporter": "python",
   "pygments_lexer": "ipython3",
   "version": "3.10.12"
  }
 },
 "nbformat": 4,
 "nbformat_minor": 5
}
