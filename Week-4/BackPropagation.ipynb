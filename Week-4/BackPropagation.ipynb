{
 "cells": [
  {
   "cell_type": "code",
   "execution_count": 1,
   "id": "e9afd487-cc03-4dd2-b076-d66833d0b2d6",
   "metadata": {},
   "outputs": [],
   "source": [
    "import numpy as np"
   ]
  },
  {
   "cell_type": "code",
   "execution_count": 2,
   "id": "005cc7f3-1c00-461e-ab9f-68f214c066b5",
   "metadata": {},
   "outputs": [],
   "source": [
    "# Define sigmoid activation function\n",
    "def sigmoid(x):\n",
    "    return 1 / (1 + np.exp(-x))\n",
    "# Define derivative of sigmoid function\n",
    "def sigmoid_derivative(x):\n",
    "    return x * (1 - x)"
   ]
  },
  {
   "cell_type": "code",
   "execution_count": 3,
   "id": "69f4bd39-f966-4f2e-a825-6f738b19cf58",
   "metadata": {},
   "outputs": [],
   "source": [
    "# Read input from user\n",
    "input_data = np.array(input(\"Enter input data separated by commas: \").split(','), dtype=float)"
   ]
  },
  {
   "cell_type": "code",
   "execution_count": 4,
   "id": "116266d8-61d0-4b11-8de7-d7ce59ad607d",
   "metadata": {},
   "outputs": [],
   "source": [
    "# Read number of hidden layers from user\n",
    "n_hidden_layers = int(input(\"Enter number of hidden layers: \"))"
   ]
  },
  {
   "cell_type": "code",
   "execution_count": null,
   "id": "1175eccb-877b-4700-a815-9b2f3becb4d3",
   "metadata": {},
   "outputs": [
    {
     "ename": "",
     "evalue": "",
     "output_type": "error",
     "traceback": [
      "\u001b[1;31mThe Kernel crashed while executing code in the current cell or a previous cell. \n",
      "\u001b[1;31mPlease review the code in the cell(s) to identify a possible cause of the failure. \n",
      "\u001b[1;31mClick <a href='https://aka.ms/vscodeJupyterKernelCrash'>here</a> for more info. \n",
      "\u001b[1;31mView Jupyter <a href='command:jupyter.viewOutput'>log</a> for further details."
     ]
    }
   ],
   "source": [
    "# Read number of output neurons from user\n",
    "n_output_neurons = int(input(\"Enter number of output neurons: \"))\n"
   ]
  },
  {
   "cell_type": "code",
   "execution_count": 9,
   "id": "d9ca8781-ee04-405b-b9e2-81230f8ce8c4",
   "metadata": {},
   "outputs": [
    {
     "name": "stdout",
     "output_type": "stream",
     "text": [
      "Enter bias values for layer 1 separated by commas:  0.35\n",
      "Enter bias values for layer 2 separated by commas:  0.60\n"
     ]
    }
   ],
   "source": [
    "# Read bias values from user\n",
    "bias_values = []\n",
    "for i in range(n_hidden_layers+1):\n",
    "    bias_values.append(np.array(input(f\"Enter bias values for layer {i+1} separated by commas: \").split(','), dtype=float))"
   ]
  },
  {
   "cell_type": "code",
   "execution_count": 10,
   "id": "a7f3b6ed-16e9-4ebc-8518-f224b869c5a7",
   "metadata": {},
   "outputs": [],
   "source": [
    "# Define neural network architecture\n",
    "input_layer_size = input_data.shape[0]\n",
    "hidden_layer_sizes = []\n",
    "weights = []"
   ]
  },
  {
   "cell_type": "code",
   "execution_count": 12,
   "id": "0fd219ca-f476-4460-a5cf-7b5d3aab4bd8",
   "metadata": {},
   "outputs": [
    {
     "name": "stdout",
     "output_type": "stream",
     "text": [
      "Enter number of neurons in hidden layer 1:  2\n",
      "Enter weights for input layer to hidden layer 1 separated by commas:  0.15,0.2,0.25,0.3\n",
      "Enter weights for hidden layer 1 to output layer separated by commas:  0.4,0.45,0.5,0.55\n"
     ]
    }
   ],
   "source": [
    "for i in range(n_hidden_layers):\n",
    "    hidden_layer_sizes.append(int(input(f\"Enter number of neurons in hidden layer {i + 1}: \")))\n",
    "    if i == 0:\n",
    "        weights.append(np.array(input(f\"Enter weights for input layer to hidden layer {i + 1} separated by commas: \").split(','), dtype=float).reshape(input_layer_size, hidden_layer_sizes[i]))\n",
    "    else:\n",
    "        weights.append(np.array(input(f\"Enter weights for hidden layer {i} to hidden layer {i + 1} separated by commas: \").split(','), dtype=float).reshape(hidden_layer_sizes[i - 1], hidden_layer_sizes[i]))\n",
    "\n",
    "weights.append(np.array(input(f\"Enter weights for hidden layer {n_hidden_layers} to output layer separated by commas: \").split(','), dtype=float).reshape(hidden_layer_sizes[-1], n_output_neurons))\n"
   ]
  },
  {
   "cell_type": "code",
   "execution_count": 13,
   "id": "e0dba9fd-71b8-4ed5-b27d-421ddf5c68ca",
   "metadata": {},
   "outputs": [],
   "source": [
    "# Set hyperparameters\n",
    "learning_rate = 0.1\n",
    "num_iterations = 1000"
   ]
  },
  {
   "cell_type": "code",
   "execution_count": 14,
   "id": "59e9cc54-0844-491a-9edd-0988936b2a81",
   "metadata": {},
   "outputs": [
    {
     "name": "stdout",
     "output_type": "stream",
     "text": [
      "Enter target output separated by commas:  0.01,0.99\n"
     ]
    }
   ],
   "source": [
    "# Read target output from user\n",
    "target = np.array(input(f\"Enter target output separated by commas: \").split(','), dtype=float)"
   ]
  },
  {
   "cell_type": "code",
   "execution_count": null,
   "id": "a81c0a82-760e-4b45-97e6-0ee60425bf54",
   "metadata": {},
   "outputs": [],
   "source": [
    "# Train the neural network\n",
    "for i in range(num_iterations):\n",
    "# Feedforward\n",
    "    hidden_layers = [input_data]\n",
    "    for j in range(len(hidden_layer_sizes)):\n",
    "        hidden_layer = sigmoid(np.dot(hidden_layers[j], weights[j]) + bias_values[j])\n",
    "        hidden_layers.append(hidden_layer)\n",
    "    output = sigmoid(np.dot(hidden_layers[-1], weights[-1]) + bias_values[-1])\n",
    "    # Backpropagation\n",
    "    error = output - target\n",
    "    delta = error * sigmoid_derivative(output)\n",
    "    deltas = [delta]\n",
    "    for j in range(len(hidden_layer_sizes)-1, -1, -1):\n",
    "        delta = np.dot(deltas[-1], weights[j+1].T) * sigmoid_derivative(hidden_layers[j+1])\n",
    "        deltas.append(delta)\n",
    "    deltas.reverse()\n",
    "    # Update weights and biases\n",
    "    for j in range(len(hidden_layer_sizes)+1):\n",
    "        if j == 0:\n",
    "            layer_input = input_data\n",
    "        else:\n",
    "            layer_input = hidden_layers[j]\n",
    "        dtrian = np.transpose(deltas[j].reshape(-1,1))\n",
    "        x = np.dot(layer_input.reshape(-1,1), dtrian)\n",
    "        #print(x.shape,weights[j].shape)\n",
    "        weights[j] -= learning_rate * x\n",
    "\n",
    "# Print final output and weights\n",
    "print(f\"Final output: {output}\")\n",
    "print(f\"Target output: {target}\")\n",
    "for i in range(len(weights)):\n",
    "print(f\"Layer {i+1} weights: {weights[i]}\")\n",
    "for i in range(len(bias_values)):\n",
    "print(f\"Layer {i+1} biases: {bias_values[i]}\")"
   ]
  },
  {
   "cell_type": "code",
   "execution_count": null,
   "id": "be02b9ed-22ee-4e16-b371-d2cf5ed56064",
   "metadata": {},
   "outputs": [],
   "source": []
  },
  {
   "cell_type": "code",
   "execution_count": null,
   "id": "3f6bf948-5aea-4cb1-bcaa-1f0bda5e361e",
   "metadata": {},
   "outputs": [],
   "source": []
  }
 ],
 "metadata": {
  "kernelspec": {
   "display_name": "Python 3",
   "language": "python",
   "name": "python3"
  },
  "language_info": {
   "codemirror_mode": {
    "name": "ipython",
    "version": 3
   },
   "file_extension": ".py",
   "mimetype": "text/x-python",
   "name": "python",
   "nbconvert_exporter": "python",
   "pygments_lexer": "ipython3",
   "version": "3.10.16"
  }
 },
 "nbformat": 4,
 "nbformat_minor": 5
}
